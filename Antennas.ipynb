{
 "cells": [
  {
   "cell_type": "markdown",
   "metadata": {},
   "source": [
    "Primeiramente importamos uns módulos útiles."
   ]
  },
  {
   "cell_type": "code",
   "execution_count": 1,
   "metadata": {},
   "outputs": [],
   "source": [
    "import numpy             as np\n",
    "import matplotlib.pyplot as plt\n",
    "import scipy             as sc\n",
    "import time              as time\n",
    "import os                as os\n",
    "import seaborn           as sns\n",
    "import matlab.engine\n",
    "\n",
    "from scipy                import special\n",
    "from mpl_toolkits.mplot3d import Axes3D\n",
    "from matplotlib           import path\n",
    "from matplotlib.path      import Path\n",
    "from tqdm                 import tqdm\n",
    "\n",
    "\n",
    "sns.set_theme()\n",
    "t0 = time.perf_counter()"
   ]
  },
  {
   "cell_type": "markdown",
   "metadata": {},
   "source": [
    "Inicializamos parámetros básicos."
   ]
  },
  {
   "cell_type": "code",
   "execution_count": 2,
   "metadata": {},
   "outputs": [],
   "source": [
    "boundary = 'Rectangle'\n",
    "a = 12.5\n",
    "\n",
    "max_in_sum_1 = 20 # Puntos para cada orde.\n",
    "max_in_sum_2 = 20 # Ordes de F_n.\n",
    "\n",
    "M = 1\n",
    "N = 1\n",
    "\n",
    "spacing_subarray = 0.5\n",
    "spacing_dipoles  = 0.5"
   ]
  },
  {
   "cell_type": "markdown",
   "metadata": {},
   "source": [
    "Decidimos se calculamos as táboas."
   ]
  },
  {
   "cell_type": "code",
   "execution_count": 3,
   "metadata": {},
   "outputs": [],
   "source": [
    "Element = False\n",
    "Subarray = False"
   ]
  },
  {
   "cell_type": "markdown",
   "metadata": {},
   "source": [
    "Definimos unha función para determinar puntos dentro e fóra da máscara e o seu raio."
   ]
  },
  {
   "cell_type": "code",
   "execution_count": 4,
   "metadata": {},
   "outputs": [],
   "source": [
    "def pass_to_dB(function):\n",
    "    return 10 * np.log10(function / np.max(function))\n",
    "\n",
    "def clear_around(function, limit):\n",
    "    function[np.where(function < limit)] = limit\n",
    "    #function[out_arg] = limit\n",
    "\n",
    "def degrees(angle):\n",
    "    return 180 * angle / np.pi\n",
    "\n",
    "def radians(angle):\n",
    "    return np.pi * angle / 180\n",
    "\n",
    "def _ancho_(phi_rad_0):\n",
    "    theta = 0\n",
    "    \n",
    "    for i in np.arange(1, 5): # Calculamos o ancho exacto a -0.50 dB.\n",
    "        step = 10 / 8**i\n",
    "        temp = 1\n",
    "        \n",
    "        while temp > 0:\n",
    "            theta += step\n",
    "            u = np.sin(radians(theta)) * np.cos(phi_rad_0)\n",
    "            v = np.sin(radians(theta)) * np.sin(phi_rad_0)\n",
    "            temp = mask_path.contains_point((u, v)) * 1 # 1 se o contén, 0 se non.\n",
    "        \n",
    "        theta -= step\n",
    "    return np.sin(radians(theta))\n",
    "\n",
    "def track_radio_mask(radio_0, sin_theta_0, mask, phi_rad):\n",
    "    sin_theta_vector = np.zeros(len(phi_rad))\n",
    "    \n",
    "    for i in range(len(phi_rad)):\n",
    "        sin_theta_vector[i] = _ancho_(phi_rad[i])\n",
    "    \n",
    "    return radio_0 * sin_theta_0 / sin_theta_vector"
   ]
  },
  {
   "cell_type": "markdown",
   "metadata": {},
   "source": [
    "Procedemos ao cálculos coa máscara."
   ]
  },
  {
   "cell_type": "code",
   "execution_count": 5,
   "metadata": {},
   "outputs": [],
   "source": [
    "mask = np.loadtxt(f'Masks/mask_boundary_{boundary}.dat')\n",
    "mask_path = Path((mask))\n",
    "\n",
    "radio_0 = 50 # Radio de 50 lambda.\n",
    "sin_theta_0 = 0.04273\n",
    "\n",
    "phi_deg = np.arange(-180, 180 + 0.1, 0.1)\n",
    "phi_rad = np.pi * phi_deg / 180\n",
    "radio_vector = track_radio_mask(radio_0, sin_theta_0, mask, phi_rad) # Creamos o vector radio.\n"
   ]
  },
  {
   "cell_type": "markdown",
   "metadata": {},
   "source": [
    "Gardamos o raio vector para acceder a el dende Matlab."
   ]
  },
  {
   "cell_type": "code",
   "execution_count": 6,
   "metadata": {},
   "outputs": [],
   "source": [
    "np.savetxt('Temporal_radial_vector.txt', np.column_stack(radio_vector) / radio_0)"
   ]
  },
  {
   "cell_type": "markdown",
   "metadata": {},
   "source": [
    "## Zeros de Bessel"
   ]
  },
  {
   "cell_type": "code",
   "execution_count": 7,
   "metadata": {},
   "outputs": [],
   "source": [
    "rows = 2 * max_in_sum_2 + 1\n",
    "columns = max_in_sum_1 + 1\n",
    "\n",
    "Bessel_zeros = np.zeros((max_in_sum_2 + 1, columns))\n",
    "\n",
    "for k in range(max_in_sum_2 + 1):\n",
    "    Bessel_zeros[k, 1:max_in_sum_1 + 1] = sc.special.jn_zeros(k, max_in_sum_1) / np.pi"
   ]
  },
  {
   "cell_type": "markdown",
   "metadata": {},
   "source": [
    "## Táboas de $F_n(p)$"
   ]
  },
  {
   "cell_type": "markdown",
   "metadata": {},
   "source": [
    "$F_n$ é o que se calcula en Matlab."
   ]
  },
  {
   "cell_type": "code",
   "execution_count": 8,
   "metadata": {
    "scrolled": true
   },
   "outputs": [],
   "source": [
    "txt_name = f'Results/Tables/Table_F_n_{boundary}_{max_in_sum_1}_{max_in_sum_2}.txt'\n",
    "if os.path.exists(txt_name):\n",
    "    F_k_loaded = np.loadtxt(txt_name, dtype='complex')\n",
    "else:\n",
    "    eng = matlab.engine.start_matlab()    \n",
    "    F_k_loaded = np.zeros((rows, columns), dtype='complex')\n",
    "    \n",
    "    for k in tqdm(np.arange(- max_in_sum_2, max_in_sum_2 + 1)):        \n",
    "        if k == 0:\n",
    "            gamma_nm = Bessel_zeros[1, :]\n",
    "        else:\n",
    "            gamma_nm = Bessel_zeros[np.abs(k), :]\n",
    "        \n",
    "        for zero in range(columns):\n",
    "            if gamma_nm[zero] in Bessel_zeros[1, :]:\n",
    "                gamma_nm[zero] += 1e-5 # Cambiei esto de -15 a -5.\n",
    "            \n",
    "            try:\n",
    "                F_k_loaded[k + max_in_sum_2, zero] = eng.Integral(float(gamma_nm[zero]), float(k)) # Función de Matlab\n",
    "            except:\n",
    "                eng.quit()\n",
    "                eng = matlab.engine.start_matlab()\n",
    "                F_k_loaded[k + max_in_sum_2, zero] = eng.Integral(float(gamma_nm[zero]), float(k)) # Función de Matlab\n",
    "            \n",
    "    np.savetxt(txt_name, F_k_loaded)\n",
    "    eng.quit()"
   ]
  },
  {
   "cell_type": "markdown",
   "metadata": {},
   "source": [
    "## Calculamos $g_n(p)$"
   ]
  },
  {
   "cell_type": "code",
   "execution_count": 9,
   "metadata": {},
   "outputs": [],
   "source": [
    "def g_n(k, rho): # Para todo n.\n",
    "    aux = 0\n",
    "    p = np.pi * rho / a\n",
    "    \n",
    "    if k == 0:\n",
    "        for m in np.arange(0, max_in_sum_1):\n",
    "            gamma_1m = Bessel_zeros[1, m]\n",
    "            aux += (F_k_loaded[max_in_sum_2, m] * sc.special.jv(0, gamma_1m * p)) / (sc.special.jv(0, gamma_1m * np.pi))**2 \n",
    "    \n",
    "    else:\n",
    "        for m in np.arange(1, max_in_sum_1):\n",
    "            gamma_nm = Bessel_zeros[np.abs(k), m]\n",
    "            aux -= (F_k_loaded[k + max_in_sum_2, m] * sc.special.jv(k, gamma_nm * p)) / (sc.special.jv(k - 1, gamma_nm * np.pi) * sc.special.jv(k + 1, gamma_nm * np.pi))\n",
    "        \n",
    "    return 2 * aux / np.pi**2"
   ]
  },
  {
   "cell_type": "markdown",
   "metadata": {},
   "source": [
    "## Calculamos $K_n(\\rho)$"
   ]
  },
  {
   "cell_type": "code",
   "execution_count": 10,
   "metadata": {},
   "outputs": [],
   "source": [
    "def K_n(k, p):\n",
    "    return g_n(k, p) * np.pi / (2 * a**2 * (1j)**k)"
   ]
  },
  {
   "cell_type": "markdown",
   "metadata": {},
   "source": [
    "## Táboas de $K_n(\\rho)$"
   ]
  },
  {
   "cell_type": "code",
   "execution_count": 11,
   "metadata": {},
   "outputs": [],
   "source": [
    "radius_length = int((a + 0.5) / 0.01) + 1\n",
    "radius = np.flip(np.linspace(a, 0, radius_length, endpoint = False))\n",
    "\n",
    "txt_name = f'Results/Tables/Table_K_n_a_{a}_{boundary}_{max_in_sum_1}_{max_in_sum_2}.txt'\n",
    "if os.path.exists(txt_name):\n",
    "    K_n_loaded = np.loadtxt(txt_name, dtype='complex')\n",
    "else:\n",
    "    K_n_loaded = np.zeros((2 * max_in_sum_2 + 1, radius_length), dtype='complex')\n",
    "\n",
    "    for k in tqdm(np.arange(-max_in_sum_2, max_in_sum_2 + 1)):\n",
    "        for j in range(radius_length):\n",
    "            K_n_loaded[k + max_in_sum_2, j] = K_n(k, radius[j])\n",
    "\n",
    "    np.savetxt(txt_name, K_n_loaded)"
   ]
  },
  {
   "cell_type": "markdown",
   "metadata": {},
   "source": [
    "## Calculamos $K(\\rho, \\beta)$"
   ]
  },
  {
   "cell_type": "code",
   "execution_count": 12,
   "metadata": {},
   "outputs": [],
   "source": [
    "def find_nearest(array, value): # It returns the position.\n",
    "    array = np.asarray(array)\n",
    "    idx = (np.abs(array - value)).argmin()\n",
    "    return int(idx)\n",
    "\n",
    "def K_rho_beta(p, beta):\n",
    "    _aux_ = 0 + 1j*0\n",
    "    \n",
    "    for k in np.arange(- max_in_sum_2, max_in_sum_2 + 1):\n",
    "        idx = find_nearest(radius, p)\n",
    "        _aux_ += K_n_loaded[k + max_in_sum_2, idx] * np.exp(1j * k * beta)\n",
    "    \n",
    "    return _aux_"
   ]
  },
  {
   "cell_type": "markdown",
   "metadata": {},
   "source": [
    "## Discretizamos"
   ]
  },
  {
   "cell_type": "markdown",
   "metadata": {},
   "source": [
    "A continuación discretizamos a antena para calcular as excitacións usando o método de valor media dos vértices do cadrado."
   ]
  },
  {
   "cell_type": "code",
   "execution_count": 13,
   "metadata": {},
   "outputs": [],
   "source": [
    "radio_vector *= a / np.max(radio_vector)"
   ]
  },
  {
   "cell_type": "code",
   "execution_count": 14,
   "metadata": {},
   "outputs": [
    {
     "name": "stderr",
     "output_type": "stream",
     "text": [
      "/var/folders/tt/yn6rf2bj0jq2_tgsmlx4g30w0000gn/T/ipykernel_26481/610422919.py:8: DeprecationWarning: `np.int` is a deprecated alias for the builtin `int`. To silence this warning, use `int` by itself. Doing this will not modify any behavior and is safe. When replacing `np.int`, you may wish to use e.g. `np.int64` or `np.int32` to specify the precision. If you wish to review your current use, check the release note link for additional information.\n",
      "Deprecated in NumPy 1.20; for more details and guidance: https://numpy.org/devdocs/release/1.20.0-notes.html#deprecations\n",
      "  limit = (np.int(a / spacing_dipoles) + 0.5) * spacing_dipoles\n",
      "100%|████████████████████████████████████████████████████████████████████████████████████████████████████████████████████████████████████████████████████████████| 53/53 [00:02<00:00, 19.97it/s]\n"
     ]
    }
   ],
   "source": [
    "I_mn = []\n",
    "I_x = []\n",
    "I_y = []\n",
    "\n",
    "sign_x = np.array([1, 1, -1, -1])\n",
    "sign_y = np.array([1, -1, 1, -1])\n",
    "\n",
    "limit = (np.int(a / spacing_dipoles) + 0.5) * spacing_dipoles\n",
    "\n",
    "for y in tqdm(np.arange(- limit, limit + 1, spacing_dipoles)):        \n",
    "    for x in np.arange(- limit, limit + 1, spacing_dipoles):\n",
    "        r_ij = np.sqrt(x**2 + y**2)\n",
    "        beta_ij = np.arctan2(y, x)\n",
    "        m = int(1800 + 10 * degrees(beta_ij))\n",
    "        \n",
    "        if r_ij <= radio_vector[m]:\n",
    "            aux = 0 + 1j*0\n",
    "\n",
    "            for i in range(4):\n",
    "                new_x = x + sign_x[i] * spacing_dipoles * 0.5\n",
    "                new_y = y + sign_y[i] * spacing_dipoles * 0.5\n",
    "\n",
    "                r_ij = np.sqrt(new_x**2 + new_y**2)\n",
    "                beta_ij = np.arctan2(new_y, new_x)\n",
    "                aux += K_rho_beta(r_ij, beta_ij)\n",
    "\n",
    "            I_mn.append(0.25 * aux)\n",
    "            I_x.append(x)\n",
    "            I_y.append(y)\n",
    "\n",
    "I_mn /= np.max(I_mn)\n",
    "\n",
    "# Como método de optimización eliminamos os elementos con excitación menor á establecida.\n",
    "\n",
    "excitation_threeshold = 0.02\n",
    "removable_elements = np.where(np.abs(I_mn) <= excitation_threeshold)[0]\n",
    "\n",
    "aux_I_x = I_x.copy()\n",
    "aux_I_y = I_y.copy()\n",
    "I_mn = np.delete(I_mn, removable_elements)\n",
    "I_x = np.delete(I_x, removable_elements)\n",
    "I_y = np.delete(I_y, removable_elements)"
   ]
  },
  {
   "cell_type": "code",
   "execution_count": 15,
   "metadata": {},
   "outputs": [
    {
     "data": {
      "image/png": "[encoded data removed]",
      "text/plain": [
       "<Figure size 432x288 with 1 Axes>"
      ]
     },
     "metadata": {},
     "output_type": "display_data"
    }
   ],
   "source": [
    "plt.plot(aux_I_x, aux_I_y, 'o')\n",
    "plt.plot(I_x, I_y, 'o')\n",
    "plt.xlim(-a, a)\n",
    "plt.ylim(-a, a)\n",
    "plt.savefig(f'Results/Images/Antenna_shape_{boundary}_{max_in_sum_1}_{max_in_sum_2}.eps', dpi = 300)"
   ]
  },
  {
   "cell_type": "markdown",
   "metadata": {},
   "source": [
    "## Calculamos $F(\\theta, \\phi)$"
   ]
  },
  {
   "cell_type": "code",
   "execution_count": 16,
   "metadata": {},
   "outputs": [],
   "source": [
    "def f_subarray(u, v):\n",
    "    if Subarray:\n",
    "        psi_x = 2 * np.pi * spacing_subarray * u\n",
    "        psi_y = 2 * np.pi * spacing_subarray * v\n",
    "        return np.sin(0.5 * M * psi_x) * np.sin(0.5 * N * psi_y) / (np.sin(0.5 * psi_x) * np.sin(0.5 * psi_y))\n",
    "    else:\n",
    "        return 1\n",
    "\n",
    "def f_element(u, v):\n",
    "    if Element:\n",
    "        return np.sin(0.5 * np.pi * np.sqrt(1 - u**2 - v**2)) * np.cos(2 * np.pi * 0.495 * u) / np.sqrt(1 - u**2)\n",
    "    else:\n",
    "        return 1\n",
    "\n",
    "def F_theta_phi(u, v):\n",
    "    F = 0 + 1j*0\n",
    "    \n",
    "    for k in range(len(I_mn)):\n",
    "        exponent = 2 * np.pi * (I_x[k] * u + I_y[k] * v)\n",
    "        F += I_mn[k] * np.exp(1j * exponent)\n",
    "        \n",
    "    return F * f_subarray(u, v) * f_element(u, v)"
   ]
  },
  {
   "cell_type": "markdown",
   "metadata": {},
   "source": [
    "# Plotting the pattern"
   ]
  },
  {
   "cell_type": "markdown",
   "metadata": {},
   "source": [
    "Creamos o enreixado."
   ]
  },
  {
   "cell_type": "code",
   "execution_count": 17,
   "metadata": {},
   "outputs": [],
   "source": [
    "x = np.linspace(- 1, 1, 661, endpoint = True); x[np.where(x == 0)] = 1e-5\n",
    "X, Y = np.meshgrid(x, x)\n",
    "len_x = len(x)\n",
    "\n",
    "out_arg = np.where(X**2 + Y**2 >= 1)\n",
    "\n",
    "X[out_arg] = 0.5\n",
    "Y[out_arg] = 0.5"
   ]
  },
  {
   "cell_type": "markdown",
   "metadata": {},
   "source": [
    "Calculamos os valores do patrón, limpámolo e xeramos a imaxe."
   ]
  },
  {
   "cell_type": "code",
   "execution_count": 18,
   "metadata": {},
   "outputs": [
    {
     "name": "stderr",
     "output_type": "stream",
     "text": [
      "100%|█████████████████████████████████████████████████████████████████████████████████████████████████████████████████████████████████████████████████████████| 661/661 [00:01<00:00, 471.86it/s]\n"
     ]
    }
   ],
   "source": [
    "limit = -50\n",
    "\n",
    "Z = np.abs(F_theta_phi(X, Y))\n",
    "Z = 2 * pass_to_dB(Z)\n",
    "clear_around(Z, limit)\n",
    "Z = np.reshape(Z, (len_x, len_x))\n",
    "\n",
    "for i in tqdm(range(len_x)):\n",
    "    for j in range(len_x):\n",
    "        x_0 = i * np.pi/len_x - np.pi/2\n",
    "        y_0 = j * np.pi/len_x - np.pi/2\n",
    "        \n",
    "        if np.square(x_0*x_0 + y_0*y_0) > np.pi/2:\n",
    "            Z[i, j] = limit"
   ]
  },
  {
   "cell_type": "markdown",
   "metadata": {},
   "source": [
    "Xeramos a imaxe e gardamos resultados."
   ]
  },
  {
   "cell_type": "code",
   "execution_count": 19,
   "metadata": {},
   "outputs": [],
   "source": [
    "np.savetxt(f'Results/Data/Data_F_{boundary}_{max_in_sum_1}_{max_in_sum_2}.txt', Z)"
   ]
  },
  {
   "cell_type": "markdown",
   "metadata": {},
   "source": [
    "fig = plt.figure(1)\n",
    "plt.imshow(Z) \n",
    "plt.title('$F(\\Theta, \\phi)$')\n",
    "plt.savefig(f'Results/Images/Horizontal_F_{boundary}.eps', dpi = 300)\n",
    "\n",
    "fig = plt.figure(2)\n",
    "ax = plt.axes(projection = '3d')\n",
    "X_plot, Y_plot = np.meshgrid(x, x)\n",
    "ax.plot_surface(X_plot, Y_plot, Z, cmap = 'viridis')\n",
    "ax.set_xlabel('X')\n",
    "ax.set_ylabel('Y')\n",
    "ax.set_zlabel('Z')\n",
    "ax.grid(False)\n",
    "ax.set_visible(True)\n",
    "ax.set_zlim(limit, 0)\n",
    "plt.title('$F(\\Theta, \\phi)$')\n",
    "ax.view_init(0, 90)\n",
    "plt.savefig(f'Results/Images/3D_F_{boundary}.eps', dpi = 300)"
   ]
  },
  {
   "cell_type": "markdown",
   "metadata": {},
   "source": [
    "# Plotting the excitations"
   ]
  },
  {
   "cell_type": "markdown",
   "metadata": {},
   "source": [
    "rho = np.sqrt(X_plot**2 + Y_plot**2) * a\n",
    "beta = np.arctan2(Y_plot, X_plot)\n",
    "\n",
    "rho = np.reshape(rho, (len_x*len_x))\n",
    "beta = np.reshape(beta, (len_x*len_x))\n",
    "\n",
    "Z = np.zeros((len_x*len_x))\n",
    "\n",
    "for i in tqdm(range(len_x * len_x)):\n",
    "    Z[i] = np.abs(K_rho_beta(rho[i], beta[i]))\n",
    "\n",
    "Z = np.reshape(Z, (len_x, len_x))\n",
    "np.savetxt(f'Results/Data/Data_K_{boundary}.txt', Z)"
   ]
  },
  {
   "cell_type": "markdown",
   "metadata": {},
   "source": [
    "fig = plt.figure(1)\n",
    "plt.imshow(Z)\n",
    "plt.title(r'$K(\\rho, \\beta)$')\n",
    "plt.savefig(f'Results/Images/Horizontal_K_{boundary}.eps', dpi = 300)\n",
    "\n",
    "fig = plt.figure(2)\n",
    "ax = plt.axes(projection = '3d')\n",
    "ax.plot_surface(X_plot, Y_plot, Z, cmap = 'viridis')\n",
    "ax.set_xlabel('X')\n",
    "ax.set_ylabel('Y')\n",
    "ax.set_zlabel('Z')\n",
    "ax.grid(False)\n",
    "ax.set_visible(True)\n",
    "plt.title(r'$K(\\rho, \\beta)$')\n",
    "plt.savefig(f'Results/Images/3D_K_{boundary}.eps', dpi = 300)\n",
    "ax.view_init(50, 50)"
   ]
  },
  {
   "cell_type": "markdown",
   "metadata": {},
   "source": [
    "## Ratio de rango dinámico"
   ]
  },
  {
   "cell_type": "code",
   "execution_count": 20,
   "metadata": {},
   "outputs": [
    {
     "name": "stdout",
     "output_type": "stream",
     "text": [
      "O rango dinámico é de: 49.71540614222039\n"
     ]
    }
   ],
   "source": [
    "def dynamic_range_ratio(array):\n",
    "    array = np.abs(array)\n",
    "    return np.max(array) / np.min(array)\n",
    "\n",
    "print(f'O rango dinámico é de: {dynamic_range_ratio(I_mn)}')"
   ]
  },
  {
   "cell_type": "code",
   "execution_count": 21,
   "metadata": {},
   "outputs": [
    {
     "name": "stdout",
     "output_type": "stream",
     "text": [
      "Total execution time is: 17.36 s\n"
     ]
    }
   ],
   "source": [
    "os.remove('Temporal_radial_vector.txt')\n",
    "print(f'Total execution time is: {np.round(time.perf_counter() - t0, 2)} s')"
   ]
  }
 ],
 "metadata": {
  "kernelspec": {
   "display_name": "Python 3 (ipykernel)",
   "language": "python",
   "name": "python3"
  },
  "language_info": {
   "codemirror_mode": {
    "name": "ipython",
    "version": 3
   },
   "file_extension": ".py",
   "mimetype": "text/x-python",
   "name": "python",
   "nbconvert_exporter": "python",
   "pygments_lexer": "ipython3",
   "version": "3.10.1"
  }
 },
 "nbformat": 4,
 "nbformat_minor": 4
}
