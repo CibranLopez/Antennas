{
 "cells": [
  {
   "cell_type": "markdown",
   "metadata": {},
   "source": [
    "First of all, we import some usefull libraries."
   ]
  },
  {
   "cell_type": "code",
   "execution_count": 1,
   "metadata": {},
   "outputs": [],
   "source": [
    "import numpy as np\n",
    "import matplotlib.pyplot as plt\n",
    "import scipy as sc\n",
    "from scipy.integrate import quad\n",
    "from mpl_toolkits.mplot3d import Axes3D\n",
    "import time as time\n",
    "from matplotlib import path\n",
    "from matplotlib.path import Path"
   ]
  },
  {
   "cell_type": "markdown",
   "metadata": {},
   "source": [
    "We initializate the temporary counter and define next parameters."
   ]
  },
  {
   "cell_type": "code",
   "execution_count": 2,
   "metadata": {},
   "outputs": [],
   "source": [
    "t0 = time.perf_counter()\n",
    "s = -25.\n",
    "n = 6\n",
    "a = 10\n",
    "\n",
    "max_in_sum_1 = 100\n",
    "max_in_sum_2 = 30 # Cambiar a 100.\n",
    "\n",
    "mask = np.loadtxt('mask_boundary_SQUARE.dat')\n",
    "_type_ = 'Complex'\n",
    "_grid_ = 'Rectangular'"
   ]
  },
  {
   "cell_type": "markdown",
   "metadata": {},
   "source": [
    "Definimos unha función para determinar puntos dentro e fóra da máscara e o seu raio."
   ]
  },
  {
   "cell_type": "code",
   "execution_count": 3,
   "metadata": {},
   "outputs": [],
   "source": [
    "rho_a = np.arange(0, 1, 0.001)\n",
    "rho_a = np.delete(rho_a, 0)\n",
    "\n",
    "c = np.arange(0, 10, 0.01)\n",
    "c = np.delete(c, 0)\n",
    "\n",
    "zeros = sc.special.jn_zeros(1, n + 5) / np.pi\n",
    "\n",
    "def pass_to_dB(function):\n",
    "    return 10 * np.log10(function / np.max(function))\n",
    "\n",
    "def clear_around(function):\n",
    "    #function[np.where(r > np.pi / 2)] = - 50\n",
    "    function[np.where(function < - 50)] = - 50\n",
    "\n",
    "def degrees(angle):\n",
    "    return 180 * angle / np.pi\n",
    "\n",
    "def radians(angle):\n",
    "    return np.pi * angle / 180\n",
    "\n",
    "def _ancho_(phi_rad_0):\n",
    "    theta = 0\n",
    "    \n",
    "    for i in np.arange(1, 5): # Calculamos o ancho exacto a -0.50 dB\n",
    "        step = 10 / 8**i\n",
    "        temp = 1\n",
    "        \n",
    "        while temp > 0:\n",
    "            theta += step\n",
    "            u = np.sin(radians(theta)) * np.cos(phi_rad_0)\n",
    "            v = np.sin(radians(theta)) * np.sin(phi_rad_0)\n",
    "            temp = mask_path.contains_point((u, v)) * 1 # 1 se o contén, 0 se non.\n",
    "        \n",
    "        theta -= step\n",
    "    return np.sin(radians(theta))\n",
    "\n",
    "def track_radio_mask(radio_0, sin_theta_0, mask, phi_rad):\n",
    "    sin_theta_vector = np.zeros(len(phi_rad))\n",
    "    \n",
    "    for i in range(len(phi_rad)):\n",
    "        sin_theta_vector[i] = _ancho_(phi_rad[i])\n",
    "    \n",
    "    return radio_0 * sin_theta_0 / sin_theta_vector"
   ]
  },
  {
   "cell_type": "markdown",
   "metadata": {},
   "source": [
    "Procedemos ao cálculos coa máscara."
   ]
  },
  {
   "cell_type": "code",
   "execution_count": 4,
   "metadata": {},
   "outputs": [
    {
     "data": {
      "text/plain": [
       "3601"
      ]
     },
     "execution_count": 4,
     "metadata": {},
     "output_type": "execute_result"
    }
   ],
   "source": [
    "len(np.arange(-180, 180+0.1, 0.1))"
   ]
  },
  {
   "cell_type": "code",
   "execution_count": 5,
   "metadata": {},
   "outputs": [],
   "source": [
    "mask_path = Path((mask))\n",
    "\n",
    "radio_0 = 50 # Radio de 50 lambda.\n",
    "sin_theta_0 = 0.04273\n",
    "\n",
    "phi_rad = np.linspace(-np.pi, np.pi + 0.1, 3601)\n",
    "radio_vector = track_radio_mask(radio_0, sin_theta_0, mask, phi_rad) # Creamos o vector radio."
   ]
  },
  {
   "cell_type": "code",
   "execution_count": 6,
   "metadata": {},
   "outputs": [
    {
     "data": {
      "text/plain": [
       "40.88262679773941"
      ]
     },
     "execution_count": 6,
     "metadata": {},
     "output_type": "execute_result"
    }
   ],
   "source": [
    "np.max(radio_vector)\n",
    "#40.88262679773941"
   ]
  },
  {
   "cell_type": "code",
   "execution_count": 7,
   "metadata": {},
   "outputs": [
    {
     "data": {
      "text/plain": [
       "28.892309186199608"
      ]
     },
     "execution_count": 7,
     "metadata": {},
     "output_type": "execute_result"
    }
   ],
   "source": [
    "np.min(radio_vector)\n",
    "#28.95887489182833"
   ]
  },
  {
   "cell_type": "code",
   "execution_count": 8,
   "metadata": {},
   "outputs": [
    {
     "name": "stdout",
     "output_type": "stream",
     "text": [
      "3601\n"
     ]
    }
   ],
   "source": [
    "print(len(radio_vector))\n",
    "#3601"
   ]
  },
  {
   "cell_type": "markdown",
   "metadata": {},
   "source": [
    "Definimos as funcións $F(u, \\phi)$"
   ]
  },
  {
   "cell_type": "code",
   "execution_count": 9,
   "metadata": {},
   "outputs": [],
   "source": [
    "# Complexo.\n",
    "u_complex = np.array([0.5967, 1.7837, 3.6420, 4.3039, 5.2119])\n",
    "v_complex = np.array([0.5225, 0.5268, 0, 0, 0])\n",
    "\n",
    "# Real.\n",
    "u_real = np.array([1.0225, 3.0445, 5.4319, 6.1570, 7.1293])\n",
    "v_real = np.array([1.1424, 1.0829, 0, 0, 0])\n",
    "\n",
    "def _complex_(u, Phi):\n",
    "    \n",
    "    while np.abs(Phi) > np.pi:\n",
    "        if Phi > np.pi:\n",
    "            Phi -= 2 * np.pi\n",
    "        else:\n",
    "            Phi += 2 * np.pi\n",
    "    \n",
    "    m = int(1800 + round(10 * degrees(Phi)))\n",
    "    u *= radio_vector[m] / radio_0\n",
    "    h_1 = 1; h_2 = 1; h_f = 1\n",
    "    \n",
    "    for j in np.arange(0, n - 1):\n",
    "        h_1 *= u_complex[j]**4 + v_complex[j]**4 + u**4 + 2 * u_complex[j]**2 * v_complex[j]**2 + 2 * u**2 * (v_complex[j]**2 - u_complex[j]**2)\n",
    "        h_2 *= u_complex[j]**2 + v_complex[j]**2\n",
    "        h_f *= 1 - (u / zeros[j])**2\n",
    "        \n",
    "    return (2 * sc.special.j1(np.pi * u) / (h_f * np.pi * u))**2 * h_1 / h_2**2\n",
    "\n",
    "def _real_(u, Phi):\n",
    "    u = u * np.cos(Phi)\n",
    "    h_1 = 1; h_2 = 1; h_f = 1\n",
    "    M = np.count_nonzero(v_real)\n",
    "    \n",
    "    for j in np.arange(0, M):\n",
    "        h_1 *= u_real[j]**4 + v_real[j]**4 + u**4 + 2 * u_real[j]**2 * v_real[j]**2 + 2 * u**2 * (v_real[j]**2 - u_real[j]**2)\n",
    "        h_2 *= u_real[j]**2 + v_real[j]**2\n",
    "    \n",
    "    for j in np.arange(M, n - 1):\n",
    "        h_1 *= u_real[j]**2 - u**2\n",
    "        h_2 *= u_real[j]**2\n",
    "    \n",
    "    for j in np.arange(0, n + M - 1):\n",
    "        h_f *= 1 - (u / zeros[j])**2\n",
    "        \n",
    "    return ((2 * sc.special.j1(np.pi * u) * h_1) / (h_f * h_2 * np.pi * u))**2\n",
    "\n",
    "if _type_ == 'Real':\n",
    "    function_type = _real_\n",
    "    _type_ = '_real_'\n",
    "    \n",
    "elif _type_ == 'Complex':\n",
    "    function_type = _complex_\n",
    "    _type_ = '_complex_'"
   ]
  },
  {
   "cell_type": "markdown",
   "metadata": {},
   "source": [
    "Sacamos uns cortes para mostrar o patrón."
   ]
  },
  {
   "cell_type": "code",
   "execution_count": 10,
   "metadata": {},
   "outputs": [],
   "source": [
    "complex_roots = np.zeros(len(c))\n",
    "real_roots = np.zeros(len(c))\n",
    "\n",
    "for i in range(len(c)):\n",
    "    complex_roots[i] = np.abs(_complex_(c[i], 0))\n",
    "    real_roots[i] = np.abs(_real_(c[i], 0))\n",
    "\n",
    "complex_roots = pass_to_dB(complex_roots)\n",
    "real_roots = pass_to_dB(real_roots)"
   ]
  },
  {
   "cell_type": "code",
   "execution_count": 11,
   "metadata": {},
   "outputs": [
    {
     "data": {
      "image/png": "[encoded data removed]",
      "text/plain": [
       "<Figure size 432x288 with 1 Axes>"
      ]
     },
     "metadata": {
      "needs_background": "light"
     },
     "output_type": "display_data"
    },
    {
     "data": {
      "image/png": "[encoded data removed]",
      "text/plain": [
       "<Figure size 432x288 with 1 Axes>"
      ]
     },
     "metadata": {
      "needs_background": "light"
     },
     "output_type": "display_data"
    }
   ],
   "source": [
    "plt.figure(1)\n",
    "plt.plot(c, complex_roots, label = u'Complex roots')\n",
    "plt.title('Complex roots')\n",
    "plt.legend(loc = 'upper right')\n",
    "plt.xlabel(r'$\\theta$')\n",
    "plt.ylabel(r'$\\delta (dB)$')\n",
    "plt.xlim(0, 10)\n",
    "plt.ylim(-50, 0)\n",
    "#plt.savefig('1D_complex_pattern.png', dpi = 300)\n",
    "\n",
    "plt.figure(2)\n",
    "plt.plot(c, real_roots, label = u'Real roots')\n",
    "plt.title('Real roots')\n",
    "plt.legend(loc = 'upper right')\n",
    "plt.xlabel(r'$\\theta$')\n",
    "plt.ylabel(r'$\\delta (dB)$')\n",
    "plt.xlim(0, 10)\n",
    "plt.ylim(-50, 0)\n",
    "#plt.savefig('1D_real_pattern.png', dpi = 300)\n",
    "plt.show()"
   ]
  },
  {
   "cell_type": "markdown",
   "metadata": {},
   "source": [
    "## Calculamos $F_k(u)$"
   ]
  },
  {
   "cell_type": "code",
   "execution_count": 12,
   "metadata": {},
   "outputs": [],
   "source": [
    "def F_k(k, u):\n",
    "    def integral_function(phi): return function_type(u, phi) * np.exp(- 1j * k * phi)\n",
    "    def real_integral_function(phi): return np.real(integral_function(phi))\n",
    "    def imaginary_integral_function(phi): return np.imag(integral_function(phi))\n",
    "\n",
    "    real_integral = quad(real_integral_function, -np.pi, np.pi, limit = 1000)\n",
    "    imag_integral = quad(imaginary_integral_function, -np.pi, np.pi, limit = 1000)\n",
    "    \n",
    "    return 0.5 * (real_integral[0] + 1j*imag_integral[0]) / np.pi"
   ]
  },
  {
   "cell_type": "markdown",
   "metadata": {},
   "source": [
    "## Zeros de Bessel"
   ]
  },
  {
   "cell_type": "code",
   "execution_count": 13,
   "metadata": {},
   "outputs": [],
   "source": [
    "rows = 2 * max_in_sum_2 + 1\n",
    "columns = max_in_sum_1 + 1\n",
    "\n",
    "Bessel_zeros = np.zeros((max_in_sum_2 + 1, columns))\n",
    "\n",
    "for k in range(max_in_sum_2 + 1):\n",
    "    Bessel_zeros[k, 1:max_in_sum_1 + 1] = sc.special.jn_zeros(k, max_in_sum_1) / np.pi"
   ]
  },
  {
   "cell_type": "markdown",
   "metadata": {},
   "source": [
    "## Táboas de $g_n(p)$"
   ]
  },
  {
   "cell_type": "code",
   "execution_count": 14,
   "metadata": {},
   "outputs": [
    {
     "name": "stdout",
     "output_type": "stream",
     "text": [
      "1.6%\n",
      "-30\n"
     ]
    },
    {
     "name": "stderr",
     "output_type": "stream",
     "text": [
      "<ipython-input-12-4171204f8365>:6: IntegrationWarning: The integral is probably divergent, or slowly convergent.\n",
      "  real_integral = quad(real_integral_function, -np.pi, np.pi, limit = 1000)\n",
      "<ipython-input-12-4171204f8365>:7: IntegrationWarning: The occurrence of roundoff error is detected, which prevents \n",
      "  the requested tolerance from being achieved.  The error may be \n",
      "  underestimated.\n",
      "  imag_integral = quad(imaginary_integral_function, -np.pi, np.pi, limit = 1000)\n",
      "<ipython-input-12-4171204f8365>:6: IntegrationWarning: The occurrence of roundoff error is detected, which prevents \n",
      "  the requested tolerance from being achieved.  The error may be \n",
      "  underestimated.\n",
      "  real_integral = quad(real_integral_function, -np.pi, np.pi, limit = 1000)\n",
      "<ipython-input-12-4171204f8365>:7: IntegrationWarning: The integral is probably divergent, or slowly convergent.\n",
      "  imag_integral = quad(imaginary_integral_function, -np.pi, np.pi, limit = 1000)\n",
      "<ipython-input-12-4171204f8365>:6: IntegrationWarning: The maximum number of subdivisions (1000) has been achieved.\n",
      "  If increasing the limit yields no improvement it is advised to analyze \n",
      "  the integrand in order to determine the difficulties.  If the position of a \n",
      "  local difficulty can be determined (singularity, discontinuity) one will \n",
      "  probably gain from splitting up the interval and calling the integrator \n",
      "  on the subranges.  Perhaps a special-purpose integrator should be used.\n",
      "  real_integral = quad(real_integral_function, -np.pi, np.pi, limit = 1000)\n",
      "<ipython-input-12-4171204f8365>:7: IntegrationWarning: The maximum number of subdivisions (1000) has been achieved.\n",
      "  If increasing the limit yields no improvement it is advised to analyze \n",
      "  the integrand in order to determine the difficulties.  If the position of a \n",
      "  local difficulty can be determined (singularity, discontinuity) one will \n",
      "  probably gain from splitting up the interval and calling the integrator \n",
      "  on the subranges.  Perhaps a special-purpose integrator should be used.\n",
      "  imag_integral = quad(imaginary_integral_function, -np.pi, np.pi, limit = 1000)\n"
     ]
    },
    {
     "ename": "KeyboardInterrupt",
     "evalue": "",
     "output_type": "error",
     "traceback": [
      "\u001b[0;31m---------------------------------------------------------------------------\u001b[0m",
      "\u001b[0;31mKeyboardInterrupt\u001b[0m                         Traceback (most recent call last)",
      "\u001b[0;32m<ipython-input-14-5b3d5fab5a4e>\u001b[0m in \u001b[0;36m<module>\u001b[0;34m\u001b[0m\n\u001b[1;32m     16\u001b[0m                 \u001b[0mgamma_nm\u001b[0m\u001b[0;34m[\u001b[0m\u001b[0mzero\u001b[0m\u001b[0;34m]\u001b[0m \u001b[0;34m+=\u001b[0m \u001b[0;36m1e-10\u001b[0m\u001b[0;34m\u001b[0m\u001b[0;34m\u001b[0m\u001b[0m\n\u001b[1;32m     17\u001b[0m \u001b[0;34m\u001b[0m\u001b[0m\n\u001b[0;32m---> 18\u001b[0;31m             \u001b[0maux\u001b[0m\u001b[0;34m[\u001b[0m\u001b[0mk\u001b[0m \u001b[0;34m+\u001b[0m \u001b[0mmax_in_sum_2\u001b[0m\u001b[0;34m,\u001b[0m \u001b[0mzero\u001b[0m\u001b[0;34m]\u001b[0m \u001b[0;34m=\u001b[0m \u001b[0mF_k\u001b[0m\u001b[0;34m(\u001b[0m\u001b[0mk\u001b[0m\u001b[0;34m,\u001b[0m \u001b[0mgamma_nm\u001b[0m\u001b[0;34m[\u001b[0m\u001b[0mzero\u001b[0m\u001b[0;34m]\u001b[0m\u001b[0;34m)\u001b[0m\u001b[0;34m\u001b[0m\u001b[0;34m\u001b[0m\u001b[0m\n\u001b[0m\u001b[1;32m     19\u001b[0m \u001b[0;34m\u001b[0m\u001b[0m\n\u001b[1;32m     20\u001b[0m     \u001b[0mnp\u001b[0m\u001b[0;34m.\u001b[0m\u001b[0msavetxt\u001b[0m\u001b[0;34m(\u001b[0m\u001b[0;34m'Table_g_n'\u001b[0m \u001b[0;34m+\u001b[0m \u001b[0m_type_\u001b[0m \u001b[0;34m+\u001b[0m \u001b[0mstr\u001b[0m\u001b[0;34m(\u001b[0m\u001b[0mmax_in_sum_1\u001b[0m\u001b[0;34m)\u001b[0m \u001b[0;34m+\u001b[0m \u001b[0;34m'_'\u001b[0m \u001b[0;34m+\u001b[0m \u001b[0mstr\u001b[0m\u001b[0;34m(\u001b[0m\u001b[0mmax_in_sum_2\u001b[0m\u001b[0;34m)\u001b[0m \u001b[0;34m+\u001b[0m \u001b[0;34m'.txt'\u001b[0m\u001b[0;34m,\u001b[0m \u001b[0maux\u001b[0m\u001b[0;34m)\u001b[0m\u001b[0;34m\u001b[0m\u001b[0;34m\u001b[0m\u001b[0m\n",
      "\u001b[0;32m<ipython-input-12-4171204f8365>\u001b[0m in \u001b[0;36mF_k\u001b[0;34m(k, u)\u001b[0m\n\u001b[1;32m      4\u001b[0m     \u001b[0;32mdef\u001b[0m \u001b[0mimaginary_integral_function\u001b[0m\u001b[0;34m(\u001b[0m\u001b[0mphi\u001b[0m\u001b[0;34m)\u001b[0m\u001b[0;34m:\u001b[0m \u001b[0;32mreturn\u001b[0m \u001b[0mnp\u001b[0m\u001b[0;34m.\u001b[0m\u001b[0mimag\u001b[0m\u001b[0;34m(\u001b[0m\u001b[0mintegral_function\u001b[0m\u001b[0;34m(\u001b[0m\u001b[0mphi\u001b[0m\u001b[0;34m)\u001b[0m\u001b[0;34m)\u001b[0m\u001b[0;34m\u001b[0m\u001b[0;34m\u001b[0m\u001b[0m\n\u001b[1;32m      5\u001b[0m \u001b[0;34m\u001b[0m\u001b[0m\n\u001b[0;32m----> 6\u001b[0;31m     \u001b[0mreal_integral\u001b[0m \u001b[0;34m=\u001b[0m \u001b[0mquad\u001b[0m\u001b[0;34m(\u001b[0m\u001b[0mreal_integral_function\u001b[0m\u001b[0;34m,\u001b[0m \u001b[0;34m-\u001b[0m\u001b[0mnp\u001b[0m\u001b[0;34m.\u001b[0m\u001b[0mpi\u001b[0m\u001b[0;34m,\u001b[0m \u001b[0mnp\u001b[0m\u001b[0;34m.\u001b[0m\u001b[0mpi\u001b[0m\u001b[0;34m,\u001b[0m \u001b[0mlimit\u001b[0m \u001b[0;34m=\u001b[0m \u001b[0;36m1000\u001b[0m\u001b[0;34m)\u001b[0m\u001b[0;34m\u001b[0m\u001b[0;34m\u001b[0m\u001b[0m\n\u001b[0m\u001b[1;32m      7\u001b[0m     \u001b[0mimag_integral\u001b[0m \u001b[0;34m=\u001b[0m \u001b[0mquad\u001b[0m\u001b[0;34m(\u001b[0m\u001b[0mimaginary_integral_function\u001b[0m\u001b[0;34m,\u001b[0m \u001b[0;34m-\u001b[0m\u001b[0mnp\u001b[0m\u001b[0;34m.\u001b[0m\u001b[0mpi\u001b[0m\u001b[0;34m,\u001b[0m \u001b[0mnp\u001b[0m\u001b[0;34m.\u001b[0m\u001b[0mpi\u001b[0m\u001b[0;34m,\u001b[0m \u001b[0mlimit\u001b[0m \u001b[0;34m=\u001b[0m \u001b[0;36m1000\u001b[0m\u001b[0;34m)\u001b[0m\u001b[0;34m\u001b[0m\u001b[0;34m\u001b[0m\u001b[0m\n\u001b[1;32m      8\u001b[0m \u001b[0;34m\u001b[0m\u001b[0m\n",
      "\u001b[0;32m/Library/Frameworks/Python.framework/Versions/3.8/lib/python3.8/site-packages/scipy/integrate/quadpack.py\u001b[0m in \u001b[0;36mquad\u001b[0;34m(func, a, b, args, full_output, epsabs, epsrel, limit, points, weight, wvar, wopts, maxp1, limlst)\u001b[0m\n\u001b[1;32m    339\u001b[0m \u001b[0;34m\u001b[0m\u001b[0m\n\u001b[1;32m    340\u001b[0m     \u001b[0;32mif\u001b[0m \u001b[0mweight\u001b[0m \u001b[0;32mis\u001b[0m \u001b[0;32mNone\u001b[0m\u001b[0;34m:\u001b[0m\u001b[0;34m\u001b[0m\u001b[0;34m\u001b[0m\u001b[0m\n\u001b[0;32m--> 341\u001b[0;31m         retval = _quad(func, a, b, args, full_output, epsabs, epsrel, limit,\n\u001b[0m\u001b[1;32m    342\u001b[0m                        points)\n\u001b[1;32m    343\u001b[0m     \u001b[0;32melse\u001b[0m\u001b[0;34m:\u001b[0m\u001b[0;34m\u001b[0m\u001b[0;34m\u001b[0m\u001b[0m\n",
      "\u001b[0;32m/Library/Frameworks/Python.framework/Versions/3.8/lib/python3.8/site-packages/scipy/integrate/quadpack.py\u001b[0m in \u001b[0;36m_quad\u001b[0;34m(func, a, b, args, full_output, epsabs, epsrel, limit, points)\u001b[0m\n\u001b[1;32m    451\u001b[0m     \u001b[0;32mif\u001b[0m \u001b[0mpoints\u001b[0m \u001b[0;32mis\u001b[0m \u001b[0;32mNone\u001b[0m\u001b[0;34m:\u001b[0m\u001b[0;34m\u001b[0m\u001b[0;34m\u001b[0m\u001b[0m\n\u001b[1;32m    452\u001b[0m         \u001b[0;32mif\u001b[0m \u001b[0minfbounds\u001b[0m \u001b[0;34m==\u001b[0m \u001b[0;36m0\u001b[0m\u001b[0;34m:\u001b[0m\u001b[0;34m\u001b[0m\u001b[0;34m\u001b[0m\u001b[0m\n\u001b[0;32m--> 453\u001b[0;31m             \u001b[0;32mreturn\u001b[0m \u001b[0m_quadpack\u001b[0m\u001b[0;34m.\u001b[0m\u001b[0m_qagse\u001b[0m\u001b[0;34m(\u001b[0m\u001b[0mfunc\u001b[0m\u001b[0;34m,\u001b[0m\u001b[0ma\u001b[0m\u001b[0;34m,\u001b[0m\u001b[0mb\u001b[0m\u001b[0;34m,\u001b[0m\u001b[0margs\u001b[0m\u001b[0;34m,\u001b[0m\u001b[0mfull_output\u001b[0m\u001b[0;34m,\u001b[0m\u001b[0mepsabs\u001b[0m\u001b[0;34m,\u001b[0m\u001b[0mepsrel\u001b[0m\u001b[0;34m,\u001b[0m\u001b[0mlimit\u001b[0m\u001b[0;34m)\u001b[0m\u001b[0;34m\u001b[0m\u001b[0;34m\u001b[0m\u001b[0m\n\u001b[0m\u001b[1;32m    454\u001b[0m         \u001b[0;32melse\u001b[0m\u001b[0;34m:\u001b[0m\u001b[0;34m\u001b[0m\u001b[0;34m\u001b[0m\u001b[0m\n\u001b[1;32m    455\u001b[0m             \u001b[0;32mreturn\u001b[0m \u001b[0m_quadpack\u001b[0m\u001b[0;34m.\u001b[0m\u001b[0m_qagie\u001b[0m\u001b[0;34m(\u001b[0m\u001b[0mfunc\u001b[0m\u001b[0;34m,\u001b[0m\u001b[0mbound\u001b[0m\u001b[0;34m,\u001b[0m\u001b[0minfbounds\u001b[0m\u001b[0;34m,\u001b[0m\u001b[0margs\u001b[0m\u001b[0;34m,\u001b[0m\u001b[0mfull_output\u001b[0m\u001b[0;34m,\u001b[0m\u001b[0mepsabs\u001b[0m\u001b[0;34m,\u001b[0m\u001b[0mepsrel\u001b[0m\u001b[0;34m,\u001b[0m\u001b[0mlimit\u001b[0m\u001b[0;34m)\u001b[0m\u001b[0;34m\u001b[0m\u001b[0;34m\u001b[0m\u001b[0m\n",
      "\u001b[0;32m<ipython-input-12-4171204f8365>\u001b[0m in \u001b[0;36mreal_integral_function\u001b[0;34m(phi)\u001b[0m\n\u001b[1;32m      1\u001b[0m \u001b[0;32mdef\u001b[0m \u001b[0mF_k\u001b[0m\u001b[0;34m(\u001b[0m\u001b[0mk\u001b[0m\u001b[0;34m,\u001b[0m \u001b[0mu\u001b[0m\u001b[0;34m)\u001b[0m\u001b[0;34m:\u001b[0m\u001b[0;34m\u001b[0m\u001b[0;34m\u001b[0m\u001b[0m\n\u001b[1;32m      2\u001b[0m     \u001b[0;32mdef\u001b[0m \u001b[0mintegral_function\u001b[0m\u001b[0;34m(\u001b[0m\u001b[0mphi\u001b[0m\u001b[0;34m)\u001b[0m\u001b[0;34m:\u001b[0m \u001b[0;32mreturn\u001b[0m \u001b[0mfunction_type\u001b[0m\u001b[0;34m(\u001b[0m\u001b[0mu\u001b[0m\u001b[0;34m,\u001b[0m \u001b[0mphi\u001b[0m\u001b[0;34m)\u001b[0m \u001b[0;34m*\u001b[0m \u001b[0mnp\u001b[0m\u001b[0;34m.\u001b[0m\u001b[0mexp\u001b[0m\u001b[0;34m(\u001b[0m\u001b[0;34m-\u001b[0m \u001b[0;36m1j\u001b[0m \u001b[0;34m*\u001b[0m \u001b[0mk\u001b[0m \u001b[0;34m*\u001b[0m \u001b[0mphi\u001b[0m\u001b[0;34m)\u001b[0m\u001b[0;34m\u001b[0m\u001b[0;34m\u001b[0m\u001b[0m\n\u001b[0;32m----> 3\u001b[0;31m     \u001b[0;32mdef\u001b[0m \u001b[0mreal_integral_function\u001b[0m\u001b[0;34m(\u001b[0m\u001b[0mphi\u001b[0m\u001b[0;34m)\u001b[0m\u001b[0;34m:\u001b[0m \u001b[0;32mreturn\u001b[0m \u001b[0mnp\u001b[0m\u001b[0;34m.\u001b[0m\u001b[0mreal\u001b[0m\u001b[0;34m(\u001b[0m\u001b[0mintegral_function\u001b[0m\u001b[0;34m(\u001b[0m\u001b[0mphi\u001b[0m\u001b[0;34m)\u001b[0m\u001b[0;34m)\u001b[0m\u001b[0;34m\u001b[0m\u001b[0;34m\u001b[0m\u001b[0m\n\u001b[0m\u001b[1;32m      4\u001b[0m     \u001b[0;32mdef\u001b[0m \u001b[0mimaginary_integral_function\u001b[0m\u001b[0;34m(\u001b[0m\u001b[0mphi\u001b[0m\u001b[0;34m)\u001b[0m\u001b[0;34m:\u001b[0m \u001b[0;32mreturn\u001b[0m \u001b[0mnp\u001b[0m\u001b[0;34m.\u001b[0m\u001b[0mimag\u001b[0m\u001b[0;34m(\u001b[0m\u001b[0mintegral_function\u001b[0m\u001b[0;34m(\u001b[0m\u001b[0mphi\u001b[0m\u001b[0;34m)\u001b[0m\u001b[0;34m)\u001b[0m\u001b[0;34m\u001b[0m\u001b[0;34m\u001b[0m\u001b[0m\n\u001b[1;32m      5\u001b[0m \u001b[0;34m\u001b[0m\u001b[0m\n",
      "\u001b[0;32m<ipython-input-12-4171204f8365>\u001b[0m in \u001b[0;36mintegral_function\u001b[0;34m(phi)\u001b[0m\n\u001b[1;32m      1\u001b[0m \u001b[0;32mdef\u001b[0m \u001b[0mF_k\u001b[0m\u001b[0;34m(\u001b[0m\u001b[0mk\u001b[0m\u001b[0;34m,\u001b[0m \u001b[0mu\u001b[0m\u001b[0;34m)\u001b[0m\u001b[0;34m:\u001b[0m\u001b[0;34m\u001b[0m\u001b[0;34m\u001b[0m\u001b[0m\n\u001b[0;32m----> 2\u001b[0;31m     \u001b[0;32mdef\u001b[0m \u001b[0mintegral_function\u001b[0m\u001b[0;34m(\u001b[0m\u001b[0mphi\u001b[0m\u001b[0;34m)\u001b[0m\u001b[0;34m:\u001b[0m \u001b[0;32mreturn\u001b[0m \u001b[0mfunction_type\u001b[0m\u001b[0;34m(\u001b[0m\u001b[0mu\u001b[0m\u001b[0;34m,\u001b[0m \u001b[0mphi\u001b[0m\u001b[0;34m)\u001b[0m \u001b[0;34m*\u001b[0m \u001b[0mnp\u001b[0m\u001b[0;34m.\u001b[0m\u001b[0mexp\u001b[0m\u001b[0;34m(\u001b[0m\u001b[0;34m-\u001b[0m \u001b[0;36m1j\u001b[0m \u001b[0;34m*\u001b[0m \u001b[0mk\u001b[0m \u001b[0;34m*\u001b[0m \u001b[0mphi\u001b[0m\u001b[0;34m)\u001b[0m\u001b[0;34m\u001b[0m\u001b[0;34m\u001b[0m\u001b[0m\n\u001b[0m\u001b[1;32m      3\u001b[0m     \u001b[0;32mdef\u001b[0m \u001b[0mreal_integral_function\u001b[0m\u001b[0;34m(\u001b[0m\u001b[0mphi\u001b[0m\u001b[0;34m)\u001b[0m\u001b[0;34m:\u001b[0m \u001b[0;32mreturn\u001b[0m \u001b[0mnp\u001b[0m\u001b[0;34m.\u001b[0m\u001b[0mreal\u001b[0m\u001b[0;34m(\u001b[0m\u001b[0mintegral_function\u001b[0m\u001b[0;34m(\u001b[0m\u001b[0mphi\u001b[0m\u001b[0;34m)\u001b[0m\u001b[0;34m)\u001b[0m\u001b[0;34m\u001b[0m\u001b[0;34m\u001b[0m\u001b[0m\n\u001b[1;32m      4\u001b[0m     \u001b[0;32mdef\u001b[0m \u001b[0mimaginary_integral_function\u001b[0m\u001b[0;34m(\u001b[0m\u001b[0mphi\u001b[0m\u001b[0;34m)\u001b[0m\u001b[0;34m:\u001b[0m \u001b[0;32mreturn\u001b[0m \u001b[0mnp\u001b[0m\u001b[0;34m.\u001b[0m\u001b[0mimag\u001b[0m\u001b[0;34m(\u001b[0m\u001b[0mintegral_function\u001b[0m\u001b[0;34m(\u001b[0m\u001b[0mphi\u001b[0m\u001b[0;34m)\u001b[0m\u001b[0;34m)\u001b[0m\u001b[0;34m\u001b[0m\u001b[0;34m\u001b[0m\u001b[0m\n\u001b[1;32m      5\u001b[0m \u001b[0;34m\u001b[0m\u001b[0m\n",
      "\u001b[0;32m<ipython-input-9-49abe4b034aa>\u001b[0m in \u001b[0;36m_complex_\u001b[0;34m(u, Phi)\u001b[0m\n\u001b[1;32m     22\u001b[0m         \u001b[0mh_1\u001b[0m \u001b[0;34m*=\u001b[0m \u001b[0mu_complex\u001b[0m\u001b[0;34m[\u001b[0m\u001b[0mj\u001b[0m\u001b[0;34m]\u001b[0m\u001b[0;34m**\u001b[0m\u001b[0;36m4\u001b[0m \u001b[0;34m+\u001b[0m \u001b[0mv_complex\u001b[0m\u001b[0;34m[\u001b[0m\u001b[0mj\u001b[0m\u001b[0;34m]\u001b[0m\u001b[0;34m**\u001b[0m\u001b[0;36m4\u001b[0m \u001b[0;34m+\u001b[0m \u001b[0mu\u001b[0m\u001b[0;34m**\u001b[0m\u001b[0;36m4\u001b[0m \u001b[0;34m+\u001b[0m \u001b[0;36m2\u001b[0m \u001b[0;34m*\u001b[0m \u001b[0mu_complex\u001b[0m\u001b[0;34m[\u001b[0m\u001b[0mj\u001b[0m\u001b[0;34m]\u001b[0m\u001b[0;34m**\u001b[0m\u001b[0;36m2\u001b[0m \u001b[0;34m*\u001b[0m \u001b[0mv_complex\u001b[0m\u001b[0;34m[\u001b[0m\u001b[0mj\u001b[0m\u001b[0;34m]\u001b[0m\u001b[0;34m**\u001b[0m\u001b[0;36m2\u001b[0m \u001b[0;34m+\u001b[0m \u001b[0;36m2\u001b[0m \u001b[0;34m*\u001b[0m \u001b[0mu\u001b[0m\u001b[0;34m**\u001b[0m\u001b[0;36m2\u001b[0m \u001b[0;34m*\u001b[0m \u001b[0;34m(\u001b[0m\u001b[0mv_complex\u001b[0m\u001b[0;34m[\u001b[0m\u001b[0mj\u001b[0m\u001b[0;34m]\u001b[0m\u001b[0;34m**\u001b[0m\u001b[0;36m2\u001b[0m \u001b[0;34m-\u001b[0m \u001b[0mu_complex\u001b[0m\u001b[0;34m[\u001b[0m\u001b[0mj\u001b[0m\u001b[0;34m]\u001b[0m\u001b[0;34m**\u001b[0m\u001b[0;36m2\u001b[0m\u001b[0;34m)\u001b[0m\u001b[0;34m\u001b[0m\u001b[0;34m\u001b[0m\u001b[0m\n\u001b[1;32m     23\u001b[0m         \u001b[0mh_2\u001b[0m \u001b[0;34m*=\u001b[0m \u001b[0mu_complex\u001b[0m\u001b[0;34m[\u001b[0m\u001b[0mj\u001b[0m\u001b[0;34m]\u001b[0m\u001b[0;34m**\u001b[0m\u001b[0;36m2\u001b[0m \u001b[0;34m+\u001b[0m \u001b[0mv_complex\u001b[0m\u001b[0;34m[\u001b[0m\u001b[0mj\u001b[0m\u001b[0;34m]\u001b[0m\u001b[0;34m**\u001b[0m\u001b[0;36m2\u001b[0m\u001b[0;34m\u001b[0m\u001b[0;34m\u001b[0m\u001b[0m\n\u001b[0;32m---> 24\u001b[0;31m         \u001b[0mh_f\u001b[0m \u001b[0;34m*=\u001b[0m \u001b[0;36m1\u001b[0m \u001b[0;34m-\u001b[0m \u001b[0;34m(\u001b[0m\u001b[0mu\u001b[0m \u001b[0;34m/\u001b[0m \u001b[0mzeros\u001b[0m\u001b[0;34m[\u001b[0m\u001b[0mj\u001b[0m\u001b[0;34m]\u001b[0m\u001b[0;34m)\u001b[0m\u001b[0;34m**\u001b[0m\u001b[0;36m2\u001b[0m\u001b[0;34m\u001b[0m\u001b[0;34m\u001b[0m\u001b[0m\n\u001b[0m\u001b[1;32m     25\u001b[0m \u001b[0;34m\u001b[0m\u001b[0m\n\u001b[1;32m     26\u001b[0m     \u001b[0;32mreturn\u001b[0m \u001b[0;34m(\u001b[0m\u001b[0;36m2\u001b[0m \u001b[0;34m*\u001b[0m \u001b[0msc\u001b[0m\u001b[0;34m.\u001b[0m\u001b[0mspecial\u001b[0m\u001b[0;34m.\u001b[0m\u001b[0mj1\u001b[0m\u001b[0;34m(\u001b[0m\u001b[0mnp\u001b[0m\u001b[0;34m.\u001b[0m\u001b[0mpi\u001b[0m \u001b[0;34m*\u001b[0m \u001b[0mu\u001b[0m\u001b[0;34m)\u001b[0m \u001b[0;34m/\u001b[0m \u001b[0;34m(\u001b[0m\u001b[0mh_f\u001b[0m \u001b[0;34m*\u001b[0m \u001b[0mnp\u001b[0m\u001b[0;34m.\u001b[0m\u001b[0mpi\u001b[0m \u001b[0;34m*\u001b[0m \u001b[0mu\u001b[0m\u001b[0;34m)\u001b[0m\u001b[0;34m)\u001b[0m\u001b[0;34m**\u001b[0m\u001b[0;36m2\u001b[0m \u001b[0;34m*\u001b[0m \u001b[0mh_1\u001b[0m \u001b[0;34m/\u001b[0m \u001b[0mh_2\u001b[0m\u001b[0;34m**\u001b[0m\u001b[0;36m2\u001b[0m\u001b[0;34m\u001b[0m\u001b[0;34m\u001b[0m\u001b[0m\n",
      "\u001b[0;31mKeyboardInterrupt\u001b[0m: "
     ]
    }
   ],
   "source": [
    "Table_2 = True\n",
    "\n",
    "if Table_2:\n",
    "    aux = np.zeros((rows, columns), dtype = 'complex')\n",
    "    \n",
    "    for k in np.arange(- max_in_sum_2, max_in_sum_2 + 1):\n",
    "        print('{:.1%}'.format((k + max_in_sum_2 + 1) / (2 * max_in_sum_2 + 1)))\n",
    "        print(k)\n",
    "        if k == 0:\n",
    "            gamma_nm = Bessel_zeros[1, :]\n",
    "        else:\n",
    "            gamma_nm = Bessel_zeros[np.abs(k), :]\n",
    "        \n",
    "        for zero in range(columns):\n",
    "            if gamma_nm[zero] in Bessel_zeros[1, :]:\n",
    "                gamma_nm[zero] += 1e-10\n",
    "            \n",
    "            aux[k + max_in_sum_2, zero] = F_k(k, gamma_nm[zero])\n",
    "    \n",
    "    np.savetxt('Table_g_n' + _type_ + str(max_in_sum_1) + '_' + str(max_in_sum_2) + '.txt', aux)"
   ]
  },
  {
   "cell_type": "markdown",
   "metadata": {},
   "source": [
    "## Calculamos $g_n(p)$"
   ]
  },
  {
   "cell_type": "code",
   "execution_count": null,
   "metadata": {},
   "outputs": [],
   "source": [
    "if Table_2:\n",
    "    F_k_loaded = aux\n",
    "    \n",
    "else:\n",
    "    F_k_loaded = np.loadtxt('Table_g_n_complex_100_100.txt', dtype = 'complex')\n",
    "\n",
    "def g_n(k, p): # Para todo n.\n",
    "    aux = 0\n",
    "    \n",
    "    if k == 0:\n",
    "        for m in np.arange(0, max_in_sum_1):\n",
    "            gamma_1m = Bessel_zeros[1, m]\n",
    "            aux += (F_k_loaded[max_in_sum_2, m] * sc.special.jv(0, gamma_1m * p)) / (sc.special.jv(0, gamma_1m * np.pi))**2 \n",
    "    \n",
    "    else:\n",
    "        for m in np.arange(1, max_in_sum_1):\n",
    "            gamma_nm = Bessel_zeros[np.abs(k), m]\n",
    "            aux -= (F_k_loaded[k + max_in_sum_2, m] * sc.special.jv(k, gamma_nm * p)) / (sc.special.jv(k - 1, gamma_nm * np.pi) * sc.special.jv(k + 1, gamma_nm * np.pi))\n",
    "        \n",
    "    return 2 * aux / np.pi**2"
   ]
  },
  {
   "cell_type": "code",
   "execution_count": null,
   "metadata": {},
   "outputs": [],
   "source": [
    "d = c * np.pi / a\n",
    "\n",
    "plt.plot(d, np.abs(g_n(0, d)), label = u'$n = %.f$' %0)\n",
    "plt.legend(loc = 'best')\n",
    "\n",
    "plt.show()\n",
    "\n",
    "for k in [4, 8, 12]:\n",
    "    plt.plot(d, np.abs(g_n(k, d)), label = u'$n = %.f$' %k)\n",
    "    plt.legend(loc = 'best')\n",
    "\n",
    "plt.show()\n",
    "\n",
    "for k in [1, 2, 3]:\n",
    "    plt.plot(d, np.abs(g_n(k, d)), label = u'$n = %.f$' %k)\n",
    "    plt.legend(loc = 'best')\n",
    "\n",
    "plt.show()"
   ]
  },
  {
   "cell_type": "markdown",
   "metadata": {},
   "source": [
    "## Calculamos $K_n(\\rho)$"
   ]
  },
  {
   "cell_type": "code",
   "execution_count": null,
   "metadata": {},
   "outputs": [],
   "source": [
    "def K_n(k, p):\n",
    "    return g_n(k, np.pi * p / a) * np.pi / (2 * a**2 * (1j)**k)"
   ]
  },
  {
   "cell_type": "markdown",
   "metadata": {},
   "source": [
    "## Calculamos $K(\\rho, \\beta)$"
   ]
  },
  {
   "cell_type": "code",
   "execution_count": null,
   "metadata": {},
   "outputs": [],
   "source": [
    "def K_rho_beta(p, beta): # K_6_45\n",
    "    aux = 0 + 1j*0\n",
    "    \n",
    "    for k in np.arange(- max_in_sum_2, max_in_sum_2 + 1):\n",
    "        aux += K_n(k, p) * np.exp(1j * k * beta)\n",
    "    \n",
    "    return aux"
   ]
  },
  {
   "cell_type": "markdown",
   "metadata": {},
   "source": [
    "## Discretizamos"
   ]
  },
  {
   "cell_type": "markdown",
   "metadata": {},
   "source": [
    "A continuación discretizamos a antena para calcular as excitacións usando o método de valor media dos vértices do cadrado."
   ]
  },
  {
   "cell_type": "code",
   "execution_count": null,
   "metadata": {},
   "outputs": [],
   "source": [
    "spacing = 0.5 # Cambiar a 0.1.\n",
    "half_spacing = 0.5 * spacing\n",
    "I_mn = []\n",
    "I_x = []\n",
    "I_y = []\n",
    "counter = 0\n",
    "\n",
    "sign_x = np.array([1, 1, -1, -1])\n",
    "sign_y = np.array([1, -1, 1, -1])\n",
    "\n",
    "if _grid_ == 'Rectangular':\n",
    "    limit = (np.int(a / spacing) + 0.5) * spacing\n",
    "    \n",
    "    for y in np.arange(- limit, limit + 1, spacing):\n",
    "        counter += 1\n",
    "        print('{:.1%}'.format(counter / (2 * (limit / spacing) + 1)))\n",
    "        \n",
    "        for x in np.arange(- limit, limit + 1, spacing):\n",
    "            r_ij = np.sqrt(x**2 + y**2)\n",
    "            \n",
    "            if r_ij <= a:\n",
    "                aux = 0 + 1j*0\n",
    "                \n",
    "                for i in range(4):\n",
    "                    new_x = x + sign_x[i] * half_spacing\n",
    "                    new_y = y + sign_y[i] * half_spacing\n",
    "                    \n",
    "                    r_ij = np.sqrt(new_x**2 + new_y**2)\n",
    "                    beta_ij = np.arctan2(new_y, new_x)\n",
    "                    aux += K_rho_beta(r_ij, beta_ij)\n",
    "                \n",
    "                aux /= 4\n",
    "                I_mn.append(aux)\n",
    "                I_x.append(x)\n",
    "                I_y.append(y)\n",
    "\n",
    "elif _grid_ == 'Circular':\n",
    "    N_aros = np.int(a / spacing)\n",
    "    \n",
    "    for i in range(N_aros):\n",
    "        print('{:.1%}'.format(i / N_aros))\n",
    "        r_ij = (i + 0.5) * spacing\n",
    "        N_elementos_aro = np.int(2 * np.pi * r_ij / spacing)\n",
    "        \n",
    "        for j in range(N_elementos_aro):\n",
    "            beta_ij = j * 2 * np.pi / N_elementos_aro\n",
    "            aux = K_rho_beta(r_ij, beta_ij)\n",
    "            I_mn.append(aux)\n",
    "            I_x.append(r_ij * np.cos(beta_ij))\n",
    "            I_y.append(r_ij * np.sin(beta_ij))\n",
    "\n",
    "print('{:.0%}'.format(1))\n",
    "I_mn /= np.max(I_mn)"
   ]
  },
  {
   "cell_type": "markdown",
   "metadata": {},
   "source": [
    "## Calculamos $F(\\theta, \\phi)$"
   ]
  },
  {
   "cell_type": "code",
   "execution_count": null,
   "metadata": {},
   "outputs": [],
   "source": [
    "def F_theta_phi(Theta, Phi):\n",
    "    aux_2 = 0 + 1j*0\n",
    "    \n",
    "    for k in range(len(I_mn)):\n",
    "        aux = np.sin(Theta) * (I_x[k] * np.cos(Phi) + I_y[k] * np.sin(Phi))\n",
    "        aux_2 += I_mn[k] * np.exp(1j * 2 * np.pi * aux)\n",
    "        \n",
    "    return aux_2"
   ]
  },
  {
   "cell_type": "code",
   "execution_count": null,
   "metadata": {},
   "outputs": [],
   "source": [
    "x = np.arange(- np.pi / 2, np.pi / 2, 0.01); x = np.delete(x, np.where(x == 0))\n",
    "X, Y = np.meshgrid(x, x)\n",
    "\n",
    "X_plot = np.sin(X)\n",
    "Y_plot = np.sin(Y)\n",
    "\n",
    "N = len(x)\n",
    "N_square = N * N\n",
    "\n",
    "theta = np.sqrt(X**2 + Y**2)\n",
    "phi = np.arctan2(Y, X)\n",
    "\n",
    "Theta = np.reshape(theta, (N_square))\n",
    "Phi = np.reshape(phi, (N_square))\n",
    "\n",
    "F_plot = np.abs(F_theta_phi(Theta, Phi))\n",
    "F_plot = 2 * pass_to_dB(F_plot)\n",
    "clear_around(F_plot)\n",
    "\n",
    "new_N = int(np.sqrt(len(F_plot)))\n",
    "F_plot = np.reshape(F_plot, (new_N, new_N))\n",
    "np.savetxt('Data' + _type_ + 'F_theta_phi.txt', F_plot)\n",
    "\n",
    "x = np.linspace(-np.pi / 2, np.pi / 2, new_N)\n",
    "X_plot, Y_plot = np.meshgrid(x, x)"
   ]
  },
  {
   "cell_type": "code",
   "execution_count": null,
   "metadata": {},
   "outputs": [],
   "source": [
    "fig = plt.figure(1)\n",
    "plt.imshow(F_plot)\n",
    "plt.title('$F(\\Theta, \\phi)$')\n",
    "plt.savefig('Horizontal' + _type_ + 'F_theta_phi.png', dpi = 300)\n",
    "\n",
    "fig = plt.figure(2)\n",
    "ax = plt.axes(projection = '3d')\n",
    "ax.plot_surface(X_plot, Y_plot, F_plot, cmap = 'viridis')\n",
    "ax.set_xlabel('X')\n",
    "ax.set_ylabel('Y')\n",
    "ax.set_zlabel('Z')\n",
    "ax.grid(False)\n",
    "ax.set_visible(True)\n",
    "ax.set_zlim(-50, 0)\n",
    "plt.title('$F(\\Theta, \\phi)$')\n",
    "plt.savefig('3D' + _type_ + 'F_theta_phi.png', dpi = 300)\n",
    "ax.view_init(50, 50)"
   ]
  },
  {
   "cell_type": "code",
   "execution_count": null,
   "metadata": {},
   "outputs": [],
   "source": [
    "print('Total execution time is:', np.round(time.perf_counter() - t0, 2), 's')"
   ]
  }
 ],
 "metadata": {
  "kernelspec": {
   "display_name": "Python 3",
   "language": "python",
   "name": "python3"
  },
  "language_info": {
   "codemirror_mode": {
    "name": "ipython",
    "version": 3
   },
   "file_extension": ".py",
   "mimetype": "text/x-python",
   "name": "python",
   "nbconvert_exporter": "python",
   "pygments_lexer": "ipython3",
   "version": "3.8.2"
  }
 },
 "nbformat": 4,
 "nbformat_minor": 4
}
