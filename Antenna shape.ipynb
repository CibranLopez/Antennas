{
 "cells": [
  {
   "cell_type": "code",
   "execution_count": 1,
   "id": "3d0c78c4",
   "metadata": {},
   "outputs": [],
   "source": [
    "import numpy             as np\n",
    "import matplotlib.pyplot as plt\n",
    "import seaborn           as sns\n",
    "\n",
    "#sns.set_theme()"
   ]
  },
  {
   "cell_type": "code",
   "execution_count": 2,
   "id": "459d9d47",
   "metadata": {},
   "outputs": [],
   "source": [
    "a = 12\n",
    "N = 1000\n",
    "\n",
    "theta = np.zeros(N)\n",
    "theta[:int(N/4)] = np.linspace(0, np.pi / 2, int(N/4))\n",
    "theta[int(N/4):2*int(N/4)] = np.linspace(np.pi / 2, 0, int(N/4))\n",
    "theta[2*int(N/4):3*int(N/4)] = np.linspace(0, np.pi / 2, int(N/4))\n",
    "theta[3*int(N/4):] = np.linspace(np.pi / 2, 0, int(N/4))\n",
    "\n",
    "x = np.zeros(N)\n",
    "y = np.zeros(N)"
   ]
  },
  {
   "cell_type": "code",
   "execution_count": 6,
   "id": "01ecb352",
   "metadata": {
    "scrolled": false
   },
   "outputs": [
    {
     "data": {
      "image/png": "[encoded data removed]",
      "text/plain": [
       "<Figure size 360x360 with 1 Axes>"
      ]
     },
     "metadata": {
      "needs_background": "light"
     },
     "output_type": "display_data"
    }
   ],
   "source": [
    "wa = 1\n",
    "wb = 4\n",
    "proportion = wb / wa\n",
    "alpha = np.arctan(proportion)\n",
    "\n",
    "for i in range(N):\n",
    "    theta_i = theta[i]\n",
    "    \n",
    "    rho = wa * a * np.sin(theta_i)\n",
    "    if theta_i < alpha:\n",
    "        rho = wb * a * np.cos(theta_i)\n",
    "    \n",
    "    if i < N/4:\n",
    "        x[i] = rho * np.cos(theta_i)\n",
    "        y[i] = rho * np.sin(theta_i)\n",
    "        continue\n",
    "    if i < N/2:\n",
    "        x[i] = rho * np.cos(theta_i)\n",
    "        y[i] = - rho * np.sin(theta_i)\n",
    "        continue\n",
    "    if i < 3*N/4:\n",
    "        x[i] = - rho * np.cos(theta_i)\n",
    "        y[i] = - rho * np.sin(theta_i)\n",
    "        continue\n",
    "    x[i] = - rho * np.cos(theta_i)\n",
    "    y[i] = rho * np.sin(theta_i)\n",
    "    \n",
    "\n",
    "fig = plt.figure(figsize=(5, 5))\n",
    "\n",
    "#plt.xlim(-0.1, wb*a+0.1)\n",
    "#plt.ylim(-0.1, wa*a+0.1)\n",
    "\n",
    "xmax = np.max(x)\n",
    "ymax = np.max(y)\n",
    "\n",
    "plt.plot([-xmax, xmax], [ymax, ymax], '--k')\n",
    "plt.plot([-xmax, xmax], [-ymax, -ymax], '--k')\n",
    "plt.plot([-xmax, -xmax], [-ymax, ymax], '--k')\n",
    "plt.plot([xmax, xmax], [-ymax, ymax], '--k')\n",
    "\n",
    "plt.plot([-wb*a, wb*a], [wa*a, wa*a], 'k')\n",
    "plt.plot([-wb*a, wb*a], [-wa*a, -wa*a], 'k')\n",
    "plt.plot([-wb*a, -wb*a], [-wa*a, wa*a], 'k')\n",
    "plt.plot([wb*a, wb*a], [-wa*a, wa*a], 'k')\n",
    "\n",
    "plt.plot(x, y, '.')\n",
    "\n",
    "plt.axis('off')\n",
    "\n",
    "plt.savefig(f'{wa}_{wb}.eps')"
   ]
  }
 ],
 "metadata": {
  "kernelspec": {
   "display_name": "Python 3 (ipykernel)",
   "language": "python",
   "name": "python3"
  },
  "language_info": {
   "codemirror_mode": {
    "name": "ipython",
    "version": 3
   },
   "file_extension": ".py",
   "mimetype": "text/x-python",
   "name": "python",
   "nbconvert_exporter": "python",
   "pygments_lexer": "ipython3",
   "version": "3.10.1"
  }
 },
 "nbformat": 4,
 "nbformat_minor": 5
}
