{
 "cells": [
  {
   "cell_type": "code",
   "execution_count": 1,
   "id": "3d0c78c4",
   "metadata": {},
   "outputs": [],
   "source": [
    "import numpy             as np\n",
    "import matplotlib.pyplot as plt\n",
    "import seaborn           as sns\n",
    "\n",
    "#sns.set_theme()"
   ]
  },
  {
   "cell_type": "code",
   "execution_count": 2,
   "id": "459d9d47",
   "metadata": {},
   "outputs": [],
   "source": [
    "a = 12\n",
    "N = 1000\n",
    "\n",
    "theta = np.zeros(N)\n",
    "theta[:int(N/4)] = np.linspace(0, np.pi / 2, int(N/4))\n",
    "theta[int(N/4):2*int(N/4)] = np.linspace(np.pi / 2, 0, int(N/4))\n",
    "theta[2*int(N/4):3*int(N/4)] = np.linspace(0, np.pi / 2, int(N/4))\n",
    "theta[3*int(N/4):] = np.linspace(np.pi / 2, 0, int(N/4))\n",
    "\n",
    "x = np.zeros(N)\n",
    "y = np.zeros(N)"
   ]
  },
  {
   "cell_type": "code",
   "execution_count": 10,
   "id": "01ecb352",
   "metadata": {
    "scrolled": false
   },
   "outputs": [
    {
     "name": "stdout",
     "output_type": "stream",
     "text": [
      "1 1.999960203981911\n",
      "4 4.0\n"
     ]
    },
    {
     "data": {
      "image/png": "[encoded data removed]",
      "text/plain": [
       "<Figure size 500x500 with 1 Axes>"
      ]
     },
     "metadata": {},
     "output_type": "display_data"
    }
   ],
   "source": [
    "wa = 1\n",
    "wb = 4\n",
    "proportion = wb / wa\n",
    "alpha = np.arctan(proportion)\n",
    "\n",
    "for i in range(N):\n",
    "    theta_i = theta[i]\n",
    "    \n",
    "    rho = wa * a * np.sin(theta_i)\n",
    "    if theta_i < alpha:\n",
    "        rho = wb * a * np.cos(theta_i)\n",
    "    \n",
    "    if i < N/4:\n",
    "        x[i] = rho * np.cos(theta_i)\n",
    "        y[i] = rho * np.sin(theta_i)\n",
    "        continue\n",
    "    if i < N/2:\n",
    "        x[i] = - rho * np.cos(theta_i)\n",
    "        y[i] = rho * np.sin(theta_i)\n",
    "        continue\n",
    "    if i < 3*N/4:\n",
    "        x[i] = - rho * np.cos(theta_i)\n",
    "        y[i] = - rho * np.sin(theta_i)\n",
    "        continue\n",
    "    x[i] = rho * np.cos(theta_i)\n",
    "    y[i] = - rho * np.sin(theta_i)\n",
    "    \n",
    "\n",
    "fig = plt.figure(figsize=(5, 5))\n",
    "\n",
    "xmax = np.max(x)\n",
    "ymax = np.max(y)\n",
    "\n",
    "plt.plot([ymax, ymax], [-xmax, xmax], '--k')\n",
    "plt.plot([-ymax, -ymax], [-xmax, xmax], '--k')\n",
    "plt.plot([-ymax, ymax], [-xmax, -xmax], '--k')\n",
    "plt.plot([-ymax, ymax], [xmax, xmax], '--k')\n",
    "\n",
    "plt.plot([wa*a, wa*a], [-wb*a, wb*a], 'k')\n",
    "plt.plot([-wa*a, -wa*a], [-wb*a, wb*a], 'k')\n",
    "plt.plot([-wa*a, wa*a], [-wb*a, -wb*a], 'k')\n",
    "plt.plot([-wa*a, wa*a], [wb*a, wb*a], 'k')\n",
    "\n",
    "plt.plot(y, x)\n",
    "\n",
    "plt.plot([0, 0], [-xmax, xmax], 'k', linewidth=0.3)\n",
    "plt.plot([-ymax, ymax], [0, 0], 'k', linewidth=0.3)\n",
    "\n",
    "plt.axis('off')\n",
    "\n",
    "plt.text(0, 0, '0')\n",
    "\n",
    "delta = 1\n",
    "print(wa, ymax/a)\n",
    "plt.text(wa*a+delta, 0, 'a')\n",
    "#plt.text(ymax+delta, 0, '3a/2')\n",
    "\n",
    "print(wb, xmax/a)\n",
    "plt.text(0, wb*a+delta, f'a')\n",
    "#plt.text(0, xmax+delta, f'{int(xmax/a)}a')\n",
    "\n",
    "plt.savefig(f'{wa}_{wb}.eps')"
   ]
  },
  {
   "cell_type": "code",
   "execution_count": 12,
   "id": "3c74edc8",
   "metadata": {},
   "outputs": [
    {
     "data": {
      "text/plain": [
       "(4607.908309974323, 0.7955638495771664)"
      ]
     },
     "execution_count": 12,
     "metadata": {},
     "output_type": "execute_result"
    }
   ],
   "source": [
    "from shapely.geometry import Polygon\n",
    "\n",
    "aux = []\n",
    "for i in range(len(x)):\n",
    "    aux.append((x[i], y[i]))\n",
    "\n",
    "polygon = Polygon(tuple(aux))\n",
    "\n",
    "square2 = 4 * xmax * ymax\n",
    "square2, polygon.area / square2"
   ]
  }
 ],
 "metadata": {
  "kernelspec": {
   "display_name": "Python 3 (ipykernel)",
   "language": "python",
   "name": "python3"
  },
  "language_info": {
   "codemirror_mode": {
    "name": "ipython",
    "version": 3
   },
   "file_extension": ".py",
   "mimetype": "text/x-python",
   "name": "python",
   "nbconvert_exporter": "python",
   "pygments_lexer": "ipython3",
   "version": "3.11.1"
  }
 },
 "nbformat": 4,
 "nbformat_minor": 5
}
